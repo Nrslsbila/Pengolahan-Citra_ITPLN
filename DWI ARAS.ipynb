{
 "cells": [
  {
   "cell_type": "markdown",
   "id": "04162fe7",
   "metadata": {},
   "source": [
    "## Nursalsabila Ali\n",
    "## 202131053"
   ]
  },
  {
   "cell_type": "markdown",
   "id": "73d09987",
   "metadata": {},
   "source": [
    "## Pengambangan Dwi Aras"
   ]
  },
  {
   "cell_type": "code",
   "execution_count": 1,
   "id": "7de61692",
   "metadata": {},
   "outputs": [],
   "source": [
    "import cv2 as cv\n",
    "import numpy as np\n",
    "from matplotlib import pyplot as plt"
   ]
  },
  {
   "cell_type": "code",
   "execution_count": 2,
   "id": "686b05a1",
   "metadata": {},
   "outputs": [],
   "source": [
    "daun = cv.imread(\"daun.jpg\",0)\n",
    "tinggi, lebar = daun.shape"
   ]
  },
  {
   "cell_type": "code",
   "execution_count": 3,
   "id": "8dc42ecb",
   "metadata": {},
   "outputs": [],
   "source": [
    "cv.imshow('gambar asli', daun) #menampilkan gambar dalam jendela pop-up. 'gambar asli daun' \n",
    "cv.waitKey(0) #program akan menunggu selama 0 milidetik untuk input pengguna.\n",
    "cv.destroyAllWindows() #berguna untuk membersihkan dan menutup jendela gambar setelah program selesai dieksekusi."
   ]
  },
  {
   "cell_type": "markdown",
   "id": "8583919a",
   "metadata": {},
   "source": [
    "## Pengambangan Dwi Aras dengan Perkiraan Nilai Ambang"
   ]
  },
  {
   "cell_type": "code",
   "execution_count": 4,
   "id": "3da47091",
   "metadata": {},
   "outputs": [],
   "source": [
    "nilai_ambang = 128\n",
    "daun_hasil = daun.copy()\n",
    "for x in range (tinggi):\n",
    "    for y in range (lebar):\n",
    "        if daun[x,y] < nilai_ambang :\n",
    "            daun_hasil[x,y] = 0\n",
    "        else:\n",
    "            daun_hasil[x,y] = 255"
   ]
  },
  {
   "cell_type": "code",
   "execution_count": 5,
   "id": "7c14db43",
   "metadata": {},
   "outputs": [],
   "source": [
    "cv.imshow('gambar daun_hasil', daun_hasil) #menampilkan gambar dalam jendela pop-up. 'gambar asli daun' \n",
    "cv.waitKey(0) #program akan menunggu selama 0 milidetik untuk input pengguna.\n",
    "cv.destroyAllWindows() #berguna untuk membersihkan dan menutup jendela gambar setelah program selesai dieksekusi."
   ]
  },
  {
   "cell_type": "markdown",
   "id": "16fadadb",
   "metadata": {},
   "source": [
    "## Menentukan Nilai Ambang suatu Gambar"
   ]
  },
  {
   "cell_type": "code",
   "execution_count": 6,
   "id": "ac31dfe5",
   "metadata": {},
   "outputs": [],
   "source": [
    "def titeratif(image):\n",
    "    tinggi, lebar = image.shape\n",
    "    t0 = 127\n",
    "    while(True) :\n",
    "        rata_kiri = 0;\n",
    "        rata_kanan = 0;\n",
    "        jum_kiri = 0;\n",
    "        jum_kanan = 0;\n",
    "        for x in range (tinggi):\n",
    "            for y in range (lebar):\n",
    "                if (image[x,y] <= 127):\n",
    "                    rata_kiri = rata_kiri + image[x,y]\n",
    "                    jum_kiri = jum_kiri + 1\n",
    "                else:\n",
    "                    rata_kanan = rata_kanan + image[x,y]\n",
    "                    jum_kanan = jum_kanan + 1\n",
    "        rata_kiri = rata_kiri / jum_kiri\n",
    "        rata_kanan = rata_kanan / jum_kanan\n",
    "        t1 = (rata_kiri + rata_kanan) / 2\n",
    "        if((t0 - t1) < 1) :\n",
    "            break\n",
    "        t0 = t1\n",
    "    return round(t1)    "
   ]
  },
  {
   "cell_type": "code",
   "execution_count": 7,
   "id": "7c0a7779",
   "metadata": {},
   "outputs": [
    {
     "data": {
      "text/plain": [
       "131"
      ]
     },
     "execution_count": 7,
     "metadata": {},
     "output_type": "execute_result"
    }
   ],
   "source": [
    "titeratif(daun)"
   ]
  }
 ],
 "metadata": {
  "kernelspec": {
   "display_name": "Python 3 (ipykernel)",
   "language": "python",
   "name": "python3"
  },
  "language_info": {
   "codemirror_mode": {
    "name": "ipython",
    "version": 3
   },
   "file_extension": ".py",
   "mimetype": "text/x-python",
   "name": "python",
   "nbconvert_exporter": "python",
   "pygments_lexer": "ipython3",
   "version": "3.9.13"
  }
 },
 "nbformat": 4,
 "nbformat_minor": 5
}
